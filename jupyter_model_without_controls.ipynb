{
 "cells": [
  {
   "cell_type": "markdown",
   "id": "f70fb85b",
   "metadata": {},
   "source": [
    "## **$\\color{blue}{Manuscript}$: Control of schistosomiasis by smart competitive and predatory intervention of intermediate hosts**"
   ]
  },
  {
   "cell_type": "markdown",
   "id": "5a71c64d",
   "metadata": {},
   "source": [
    "$\\color{blue}{By:}$ Zadoki Tabo,  Livingstone Serwada Luboob, Philipp Kraft, Lutz Breuer, and Christian Albrecht\n",
    "<br>\n",
    "<br>\n",
    "coded by Tabo Zadoki \n",
    "<br>\n",
    "<br>\n",
    "Philipp Kraft oversaw the coding.\n",
    "<br>\n",
    "<br>\n",
    "Correspondence\n",
    "<br>\n",
    "Email:tabozac@gmail.com"
   ]
  },
  {
   "cell_type": "markdown",
   "id": "56eef518",
   "metadata": {},
   "source": [
    "## Schistosomiasis  model"
   ]
  },
  {
   "cell_type": "markdown",
   "id": "e1a194f4",
   "metadata": {},
   "source": [
    "The model description,computational and algorithmic codes for the base case analyses in the manuscript."
   ]
  },
  {
   "cell_type": "markdown",
   "id": "4deb7843",
   "metadata": {},
   "source": [
    "The model descritption \n",
    "<br>The model is based on the model variables (the main stages of schistosomiasis life history) namely: Susceptible human population H(t), Infected human population $I(t)$,  parasitic Eggs released from infected $E(t)$,  Free-living miracidia that hatch from eggs $M(t)$, Susceptible snail population $S(t)$, Infected snail population $Is(t)$, and Cercaria.  population released from infected snails $C(t)$. As control strategies for schistosomiasis, we use natural enemies that coexist with intermediate host snails, referred to as non-host snail competitors $X(t)$ and predators $Y(t)$, whose influence on intermediate host (IH) snails and schistosomiasis control is represented by the parameters in $ \\color{blue}{blue}$ and $ \\color{red}{red}$, respectively, in the model equations below. The model uses data (parameter values) from the literature related to Biomphalaria/Bulinus IH snails (see references in the journal suplementary file, Table S1).  "
   ]
  },
  {
   "cell_type": "code",
   "execution_count": null,
   "id": "b5666204",
   "metadata": {},
   "outputs": [],
   "source": [
    " Table for model Parameters, their descriptions and their values\n",
    "<br>\n",
    "\n",
    "| Parameter | Description | values/day |Parameter | Description | values/day |Parameter | Description | values/day |\n",
    "| --- | --- | --- |--- | --- | --- |--- | --- | --- |\n",
    "| lambda1 | Human reproduction rate  | 254 |beta1 | Cercariae infection rate  |0.406 | delta1 | Human mortality due to infection  | 0.0227 |\n",
    "| --- | --- | --- |--- | --- | --- |--- | --- | --- |\n",
    "| u1 | Human mortality rate  |0.0000384 |u2| Snail mortality rate    |0.000569|rho | Portion of stool/urine| 10-513|\n",
    "| --- | --- | --- |--- | --- | --- |--- | --- | --- |\n",
    "| theta | No. of eggs | 70-160 | Ke | Egg carrying capacity   | 100000 |omega1 | Miracidia production rate   | 500 |\n",
    "| --- | --- | --- |--- | --- | --- |--- | --- | --- |\n",
    "|omega2 | Cercariae emergence rate  | 4128 | u3  | Parasite egg mortality rate | 0.001 | u4 | Miracidia death rate  | 2 |\n",
    "| --- | --- | --- |--- | --- | --- |--- | --- | --- |\n",
    "| u5 | Cercaria mortality rate  | 1  |r1 | Intrinsic growth rate of snails  | 0.16 |  Ks | Carrying capacity of host snails | 100-100000 |\n",
    "| --- | --- | --- |--- | --- | --- |--- | --- | --- |\n",
    "| beta2 |Miracidial infection rate | 0.615 |u6 | Natural death rate of predator | 0.02 | tau | child´s first age of schistosomiasis infection |730 |\n",
    "| --- | --- | --- |--- | --- | --- |--- | --- | --- |\n",
    "|   delta2 | Snail mortality due to infection | 0.011989 |co |Saturation coefficient for miracidia infectivity   | 100 |  mo | Saturation coefficient for miracidia infectivity  | 100 |\n",
    "| --- | --- | --- |--- | --- | --- |--- | --- | --- |\n",
    "|  epsln | Crowding effect of miracidia/cercaria  |0.2 |r2 | Intrinsic growth rate of competitor snails | 0.16-0.5 |n1 | Susceptible snail to predator conversion factor  | 0.07 |\n",
    "| --- | --- | --- |--- | --- | --- |--- | --- | --- |\n",
    "|n2 | infected snail to predator conversion factor  | 0.09 | K2 | Carrying capacity of competitor snail  | 100000 |$ \\color{blue}{e1}$ | Competition factor against susceptible snails | 0.00001-0.1 |\n",
    "| --- | --- | --- |--- | --- | --- |--- | --- | --- |\n",
    "| $ \\color{blue}{e2}$|Competition factor against infected snails | 0.00001-0.1 | $ \\color{blue}{e3}$ | Competition factor against snail competitor |  0.00001-0.1 |Parameter | Description | values/day |\n",
    "| --- | --- | --- |--- | --- | --- |--- | --- | --- |\n",
    "|$ \\color{red}{a}$ | Handling time for susceptible snails by predator | 0.005- 5 |$ \\color{red}{b}$ | Handling time of infected snail by predator | 0.05-0.5  |$ \\color{red}{t1}$ | Attack rate of susceptible snail by predator | 0.002-10 hrs |\n",
    "| --- | --- | --- |--- | --- | --- |--- | --- | --- |\n",
    "| $ \\color{red}{t2}$ | Attack rate of infected snail predator | 0.004-4 hrs | |  |  | |  |  |"
   ]
  },
  {
   "cell_type": "markdown",
   "id": "5025113a",
   "metadata": {},
   "source": [
    "Markdown codes for model equations\n",
    "<br>\n",
    "\n",
    "\\begin{align}\n",
    "\\dot{H} & = \\lambda_{1}e^{-\\mu_{1}\\tau}- \\frac{\\beta_{1}HC}{C_{0}+\\varepsilon C} -\\mu_{1}H \\\\\n",
    "\\dot{I} & = \\frac{\\beta_{1}HC}{C_{0}+\\varepsilon C} -(\\mu_{1}+\\delta_{1})I \\\\\n",
    "\\dot{E} & = \\rho\\theta I\\left(1-\\frac{E}{K}\\right)-(\\omega_{1}+\\mu_{3})E \\\\\n",
    "\\dot{M} & = \\omega_{1}E-\\mu_{4}M\\\\\n",
    "\\dot{S} & = r_{1}S\\left(1-\\frac{S+\\color{blue}{e_{1}}(I_{s}+X)}{K_{s}}\\right)-\\frac{\\beta_{2}MS}{M_{0}+\\varepsilon M}-\\frac{\\color{red}{t_{1}}YS}{\\color{red}{1+at_{1}}S}\\\\\n",
    "\\dot{I}_{s} & = \\frac{\\beta_{2}MS}{M_{0}+\\varepsilon M}-(\\mu_{2}+\\delta_{2}+\\color{blue}{e_{2}}(S+X+I_{s}))I_{s}-\\frac{\\color{red}{t_{2}}YI_{s}}{\\color{red}{1+at_{2}}I_{s}}\\\\\n",
    "\\dot{C} & = \\mu_{2}I_{s}-\\mu_{5}C\\\\\n",
    "\\dot{X} & = r_{2}X\\left(1-\\frac{X+\\color{blue}{e_{3}}(S+I_{s})}{K_{2}}\\right)\\\\\n",
    "\\dot{Y} & =\\frac{\\eta_{1}\\color{red}{t_{1}}YS}{\\color{red}{1+at_{1}}S}+\\frac{\\eta_{2}\\color{red}{t_{2}}YI_{s}}{\\color{red}{1+at_{2}}I_{s}}-\\mu_{6}Y\n",
    "\\end{align}"
   ]
  },
  {
   "cell_type": "markdown",
   "id": "6145bf62",
   "metadata": {},
   "source": [
    "In the model analysis, we show\n",
    " <br> (i) simulations of how the disease progresses exponentially in populations, without  control\n",
    " <br>(ii)Perform the sensitivity analysis to determine the critical parameters for the extinction of the disease\n",
    "  <br>(iii)simulation of the effects of competition parameters on the snail population and the subsequent cercariae population\n",
    " <br>(iv)simulation of the effect of predation parameters on the snail population and the subsequent cercariae population\n",
    "<br>(v)simulation of the effects of competition and predation parameters on the snail population and the subsequent cercariae population "
   ]
  },
  {
   "cell_type": "code",
   "execution_count": null,
   "id": "049e4e86",
   "metadata": {},
   "outputs": [],
   "source": [
    "# Load R packages\n",
    "library(dplyr)    \n",
    "library(tidyr)\n",
    "library(ggplot2)\n",
    "library(deSolve)\n",
    "library(magrittr)\n",
    "library(lhs)\n",
    "library(sensitivity)"
   ]
  },
  {
   "cell_type": "code",
   "execution_count": 22,
   "id": "1b828e7e",
   "metadata": {},
   "outputs": [],
   "source": [
    "#codes for model equation \n",
    "  schistosom <- function(t, states, param){\n",
    "    with(as.list(c(states, param)), {\n",
    "      #rate of change\n",
    "      dH <-lambda1*exp(-u1*tau)-(beta1*H*C/(co+epsln*C))-u1*H;                             \n",
    "      dI <- (beta1*H*C/(co+epsln*C)) -(u1+delta1)*I;\n",
    "      dE <- rho*theta*I*(1-(E/Ke)) - (omega1+u3)*E;\n",
    "      dM <- omega1*E- u4*M;\n",
    "      dS <- (r1*S*(1-(S+e1*(Is+X))/Ks)) -(beta2*S*M/(mo + epsln*M))-(t1*S*Y/(1+a*t1*S)); \n",
    "      dIs <- (beta2*S*M/(mo + epsln*M))- (u2+delta2+e2*(S+X+Is))*Is-(t2*Y*Is/(1+b*t2*Is)); \n",
    "      dC <- omega2*Is- u5*C;     \n",
    "      dX <- r2*X*(1-(X+e3*(Is+S))/Ks);\n",
    "      dY<- (n1*t1*S*Y/(1+a*t1*S))+(n2*t2*Y*Is/(1+b*t2*Is))-u6*Y\n",
    "      #return the rate od change\n",
    "      list(c(dH, dI, dE, dM, dS, dIs, dC, dX, dY))\n",
    "    }) #end with (a.s.list...)\n",
    "      }"
   ]
  },
  {
   "cell_type": "markdown",
   "id": "68d041c1",
   "metadata": {},
   "source": [
    "##  Schistosomiasis model without control "
   ]
  },
  {
   "cell_type": "markdown",
   "id": "fde60cd5",
   "metadata": {},
   "source": [
    "(i) Simulations of how the disease progresses exponentially in populations without control intervantions  \n",
    " <br> When $X(t)=0$, $Y(t)=0$ with competitionand predation parameters all zeroes $(e_{1}=e_{2}=t_{1}=t_{2}=a=b=0)$."
   ]
  },
  {
   "cell_type": "code",
   "execution_count": 23,
   "id": "5f8cb0c5",
   "metadata": {},
   "outputs": [],
   "source": [
    "#parameters for the model wihout control\n",
    "param<-c(lambda1 =254, beta1 = 0.406, u1 =0.0000384, u2 = 0.000569, delta1 = 0.0227, rho = 70,theta=10, Ke= 100000, \n",
    "         omega1 = 500,omega2 = 4128, u3 = 0.001, u5 =1, u4 = 2, r1=0.16, Ks =100000, beta2 = 0.615, u6=0.002,tau=730,\n",
    "             delta2 =0.011989,co = 100, mo =100, epsln = 0.2, n1=0.5, n2=0.8,  r2=0.24, K2=100000,\n",
    "             e3=0, e1=0, e2=0, a=0, b=0, t1=0, t2=0)"
   ]
  },
  {
   "cell_type": "code",
   "execution_count": 32,
   "id": "320e7ab5",
   "metadata": {},
   "outputs": [],
   "source": [
    "#Initial conditions for the  model . \n",
    "states <- c(H=99900, I=1,E=0, M=0, S=99999, Is=1, C=0,X=0, Y=0)\n",
    "#Times at which we desire solutions. The disease like schsitosomiasis show the dynamics in years\n",
    "times <-seq(from=0,to=5,by=1/365)"
   ]
  },
  {
   "cell_type": "code",
   "execution_count": 33,
   "id": "c68f594b",
   "metadata": {},
   "outputs": [],
   "source": [
    "# Model trajectory, results stored in a data-frame\n",
    "ode(\n",
    "  func= schistosom,\n",
    "  y=states,\n",
    "  times=times,\n",
    "  parms=param\n",
    ") %>%\n",
    "  as.data.frame() -> out\n"
   ]
  },
  {
   "cell_type": "code",
   "execution_count": null,
   "id": "2f3e8cd9",
   "metadata": {},
   "outputs": [],
   "source": [
    "#Exploratory Data Analysis (plot/data Visualisation) of the output.\n",
    "dat <- out %>% pivot_longer(cols = c(H, I, S, Is), names_to = \"state\",values_to = \"value\")\n",
    "par(mfrow=c(2,2))\n",
    "  dat %>% ggplot(aes(x = time, y = value,  color = state,  group = state))+ geom_line(linewidth=2)+\n",
    "  xlab(\"Time(years)\")+ ylab(\"The human and snail host populations\")+theme(legend.position = c(0.45, 0.55))\n",
    " ggplot(out) + geom_line(aes(time, E),linewidth=2, color=\"blue\")\n",
    "  ggplot(out) + geom_line(aes(time, M),linewidth=2, color=\"brown\")\n",
    "   ggplot(out) + geom_line(aes(time, C),linewidth=2, color=\"green\")\n"
   ]
  },
  {
   "cell_type": "markdown",
   "id": "8c378f16",
   "metadata": {},
   "source": [
    "(ii) Sensitivity analysis of $ R_{0}$ with respect to parameters to determine the critical parameters for the extinction of the disease. \n",
    "<br>When no intervention is allowed, it depends on the parameters driving schistosomiasis epidemics, and its given as \n",
    "<br>\n",
    "\n",
    "\\begin{align}\n",
    "R_{0} & =\\sqrt{\\frac{\\beta_{1}\\beta_{2}\\omega_{1}\\omega_{2}\\rho\\lambda_{1}K_{s}e^{-\\mu_{1}}}\n",
    "                {\\mu_{1}\\mu_{4}\\mu_{5}M_{0}C_{0}(\\mu_{1}+\\delta_{1})(\\mu_{2}+\\delta_{2})(\\mu_{3}+\\omega_{1})}} \n",
    "\\end{align}"
   ]
  },
  {
   "cell_type": "code",
   "execution_count": 10,
   "id": "2296f470",
   "metadata": {},
   "outputs": [],
   "source": [
    "# sensitivity analysis,. sensitivity of Ro to parameters\n",
    "#Build the codes model without controls \n",
    "Schististo<-function(t,y, params){\n",
    "  #System of ODES \n",
    "  H <- y[1] #create local variable H, first element of y\n",
    "  I <- y[2] \n",
    "  E <- y[3]\n",
    "  M <- y[4]\n",
    "  S <- y[5]\n",
    "  Is<- y[6]\n",
    "  C <- y[7] \n",
    "  with(as.list(params),{      \n",
    "      #rate of change\n",
    "      dH <-lambda1*exp(-u1*730)-(beta1*H*C/(co+epsln*C))-u1*H;                             \n",
    "      dI <- (beta1*H*C/(co+epsln*C)) -(u1+delta1)*I;\n",
    "      dE <- rho*I*(1-(E/Ke)) - (omega1+u3)*E;\n",
    "      dM <- omega1*E- u4*M;\n",
    "      dS <- r1*S*(1-(S+Is)/Ks) -(beta2*S*M/(mo + epsln*M)); \n",
    "      dIs <- (beta2*S*M/(mo + epsln*M))- (u2+delta2)*Is; \n",
    "      dC <- omega2*Is- u5*C;\n",
    "      #return the rate od change\n",
    "      list(c(dH, dI, dE, dM, dS, dIs, dC))\n",
    "    }) #end with (a.s.list...)\n",
    "}"
   ]
  },
  {
   "cell_type": "code",
   "execution_count": 35,
   "id": "08456e5a",
   "metadata": {},
   "outputs": [],
   "source": [
    "#select the parameters \n",
    "params<-c(lambda1 =254, lambda2 =200, beta1 = 0.406, u1 =0.0000384, u2 = 0.000569, delta1 = 0.0227,\n",
    "          rho = 70,theta=10, Ke= 100000, omega1 = 500,omega2 = 4128, u3 = 0.001, u5 =1, u4 = 2,r1=0.16, Ks =100000,\n",
    "          beta2 = 0.615,delta2 =0.011989,co = 100, mo =100, epsln = 0.2)\n",
    "#initial conditions\n",
    "ystart <-c(H=99900, I=1,E=0, M=0, S=99999, Is=1, C=0)\n",
    "#Time scale for the output\n",
    "times <-seq(from=0,to=5,by=1/365)\n",
    "#store the output in the dataset\n",
    "outt <- as.data.frame(lsoda(ystart,times,Schististo,params))\n",
    " "
   ]
  },
  {
   "cell_type": "code",
   "execution_count": 36,
   "id": "45d1db41",
   "metadata": {},
   "outputs": [],
   "source": [
    "#Impute R0 function for sensitivity analysis \n",
    "\n",
    "model_list <- function(lambda1, beta1, u1, u2, delta1, rho, omega1, omega2, u3, u5, u4,\n",
    "                       Ks, beta2, delta2,  co, mo, epsln){\n",
    "  with(as.list(params),{\n",
    "      R0 <- sqrt((beta1*beta2*omega1*omega2*rho*lambda1*Ks*exp(-730*u1))/\n",
    "                   (u1*u4*u5*mo*co*(u1+delta1)*(u2+delta2)*(omega1+u3)))\n",
    "    }\n",
    "  )\n",
    "}"
   ]
  },
  {
   "cell_type": "code",
   "execution_count": 37,
   "id": "d13c869d",
   "metadata": {},
   "outputs": [],
   "source": [
    "#Objective: To produce graphs of R0, \n",
    "h1<-1000\n",
    "set.seed(11952022) #this random seed can be changed\n",
    "lhs<-maximinLHS(h1,18) #here 15 is number of parameters that we will generate  \n",
    "## Set ranges 10 % greater and lesser than the\n",
    "## point estimates.\n",
    "{lambda1.min<-228.6\n",
    "  lambda1.max<-279.4\n",
    "  u1.min<-0.00003456\n",
    "  u1.max<-0.00004224\n",
    "  beta1.min<-0.3654\n",
    "  beta1.max<-0.4466\n",
    "  u2.min<-0.000441\n",
    "  u2.max<-0.000539\n",
    "  delta1.max <- 0.09196 \n",
    "  delta1.min <-  0.07524\n",
    "  r1.max <- 0.176\n",
    "  r1.min <- 0.144\n",
    "  beta2.max <-  0.6765\n",
    "  beta2.min <-  0.5535\n",
    "  rho.max <- 330\n",
    "  rho.min <- 270\n",
    "  Ke.max <- 110000\n",
    "  Ke.min <- 90000\n",
    "  omega1.max <- 550\n",
    "  omega1.min <- 450\n",
    "  u3.max <- 0.0011\n",
    "  u3.min <- 0.0009\n",
    "  u4.max <- 2.475\n",
    "  u4.min <- 2.025\n",
    "  u5.max <- 1.1\n",
    "  u5.min <- 0.9\n",
    "  omega2.max <- 2723.6\n",
    "  omega2.min <- 2228.4\n",
    "  #delta2.max <- 0.0005\n",
    "  #delta2.min <- 0.0004\n",
    "  co.max <- 110\n",
    "  co.min <- 90\n",
    "  mo.max <- 110\n",
    "  mo.min <- 90\n",
    "  epsln.max <- 0.22\n",
    "  epsln.min <- 0.18\n",
    "  Ks.max <- 110000\n",
    "  Ks.min <- 90000\n",
    "  #H=1000000\n",
    "  #S=1000000\n",
    "  ###\n",
    "}"
   ]
  },
  {
   "cell_type": "code",
   "execution_count": 38,
   "id": "0b7527cc",
   "metadata": {},
   "outputs": [],
   "source": [
    "#Create the 18 dimensional parameter space:\n",
    "params.set<-cbind(\n",
    "  lambda1=lhs[,1]*(lambda1.max-lambda1.min)+lambda1.min,\n",
    "  beta1=lhs[,2]*(beta1.max-beta1.min)+beta1.min,\n",
    "  u1=lhs[,3]*(u1.max-u1.min)+u1.min,\n",
    "  u2 = lhs[,4]*(u2.max-u2.min)+u2.min,\n",
    "  delta1= lhs[,5]*(delta1.max-delta1.min)+delta1.min,\n",
    "  r1=lhs[,6]*(r1.max-r1.min)+r1.min,\n",
    "  Ks = lhs[,7]*(Ks.max-Ks.min)+Ks.min,\n",
    "  beta2 = lhs[,8]*(beta2.max-beta2.min)+beta2.min,\n",
    "  rho = lhs[,9]*(rho.max-rho.min)+rho.min,\n",
    "  Ke = lhs[,10]*(Ke.max-Ke.min)+Ke.min,\n",
    "  omega1 = lhs[,11]*(omega1.max-omega1.min)+omega1.min,\n",
    "  u4 = lhs[,12]*( u4.max- u4.min)+ u4.min,\n",
    "  u5 = lhs[,13]*(u5.max-u5.min)+u5.min,\n",
    "  omega2 = lhs[,14]*(omega2.max-omega2.min)+omega2.min,\n",
    "  u3 = lhs[,15]*(u3.max-u3.min)+u3.min,\n",
    "  #delta2 = lhs[,16]*(delta2.max-delta2.min)+delta2.min,\n",
    "  co = lhs[,16]*( co.max- co.min)+ co.min,\n",
    "  mo = lhs[,17]*( mo.max- mo.min)+ mo.min,\n",
    "  epsln = lhs[,18]*(epsln.max-epsln.min)+epsln.min  \n",
    ") "
   ]
  },
  {
   "cell_type": "code",
   "execution_count": 39,
   "id": "1161b93d",
   "metadata": {},
   "outputs": [],
   "source": [
    "#Fill  the  space created\n",
    "#this code takes a while to output results\n",
    "h2<-100 #number of simulated parameter sets. We would like to increase this to at least 100 for our final plots\n",
    "times <- seq(0,100,by=0.1)\n",
    "bseq<-seq(0.1, 2.1, by=0.05)\n",
    "levels<-length(bseq)  \n",
    "#For loop to compute R0, \n",
    "#epidemic final size, epidemic peak as a function of q: \n",
    "j <- 1\n",
    "data <- data.frame(matrix(rep(NA,levels*h2*22),nrow=levels*h2))\n",
    "#21 refers to number of columns. 18 parameters, epidemic final size, R0. Increase to 19 when epidemic peak function is loaded into memory\n",
    "for(i in 1:h2){\n",
    "  for (delta2 in bseq){\n",
    "    data[j,1:21] <- params <- as.list(c(params.set[i,],delta2=delta2, H=99900, S=99999)) #21 parameters\n",
    "    outt <- (as.data.frame(ode(ystart,times, Schististo, params)))\n",
    "    #  data[j,22] <- get.size(outt)\n",
    "    data[j,22] <- model_list(params)\n",
    "    #  data[j,24] <- get.peak(outt)\n",
    "    j <- j+1\n",
    "  }\n",
    "}"
   ]
  },
  {
   "cell_type": "code",
   "execution_count": 41,
   "id": "e4768f0e",
   "metadata": {},
   "outputs": [],
   "source": [
    "#name the columns of  the large computed matrix\n",
    "names(data) <- c(names(params), 'R0')\n",
    "#get the numerical prcc valus \n",
    "bonferroni.alpha <- 0.05/21\n",
    "prcc <- pcc(data[,1:19], data[,22], nboot = 1000, rank=TRUE, conf=1-bonferroni.alpha) #how sensitive is R0 to each parameter?\n",
    "#save(prcc, file='prcc.Rdata')\n"
   ]
  },
  {
   "cell_type": "code",
   "execution_count": null,
   "id": "16ee1523",
   "metadata": {},
   "outputs": [],
   "source": [
    "\n",
    "#load('prcc.Rdata')\n",
    "summary <- print(prcc);\n",
    "#barplots #\n",
    "#delete some rows not in the Ro equation \n",
    "summary<-summary[-c(6,10),]\n",
    "barplot(height = summary$original, names = row.names(summary), main='Partial rank correlation coefficients', ylim=c(-1,1),\n",
    "        xlab='', ylab='Coefficient', las =2, col = \"blue\")\n",
    "mtext(text='Parameters', side=1, line=4.5)\n",
    "box()\n",
    "abline(h=0)\n",
    "#The greater the magnitude of PRCC, the more influence that parameter has on R0\n",
    "#Above the line: positively correlated Below the line: negatively correlated"
   ]
  },
  {
   "cell_type": "markdown",
   "id": "5f1ced96",
   "metadata": {},
   "source": [
    "It is clear that $R_{0}$ is more sensitive to the mortality rate of infected snails and can result to disease extinction as shown below"
   ]
  },
  {
   "cell_type": "code",
   "execution_count": null,
   "id": "0614d86d",
   "metadata": {},
   "outputs": [],
   "source": [
    "#simulation of Ro verses the most sensitive parameter, delta2\n",
    "#load parameters\n",
    "lambda1 =254; beta1 = 0.406; u1 =0.0000384; u2 = 0.000569;\n",
    "delta1 = 0.0227;  rho = 70;theta=10; omega1 = 500; omega2 = 4128; u3 = 0.001;\n",
    "u5 =1; u4 = 2;  r1=0.16; Ks =100000; beta2 = 0.615; tau=730;\n",
    "co = 100; mo =100; epsln = 0.2;\n",
    "\n",
    "#vary delta2 to show cases of disease extinction when Ro<1\n",
    "for ( delta2 in c(0.0004505, 0.004505, 0.04505, 0.4505, 4.505 )){\n",
    "  \n",
    "  R0 <- sqrt((beta1*beta2*omega1*omega2*rho*lambda1*Ks*exp(-tau*u1))/\n",
    "               (u1*u4*u5*mo*co*(u1+delta1)*(u2+delta2)*(omega1+u3)))\n",
    "#  print(R0)\n",
    "}\n",
    "#plot  \n",
    "plt <-ggplot(df_all, aes(x = delta2, y = R0)) +\n",
    "geom_smooth(method = 'loess', formula = 'y ~ x', linewidth=2)+\n",
    "geom_hline(yintercept=1, colour = \"red\", linewidth=2) # the horizotal line is R0=1, when Ro<1, the disease offsets and onsets if R0>1\n",
    "                      \n",
    " suppressWarnings(print(plt))\n",
    "#When you use the LOESS smoother on two classes, you get these alert messages.\n",
    "#Indicating that these alerts occur when there are minimal observations in this plot region.\n",
    "#we suppress"
   ]
  }
 ],
 "metadata": {
  "kernelspec": {
   "display_name": "R4.2.2",
   "language": "R",
   "name": "ir"
  },
  "language_info": {
   "codemirror_mode": "r",
   "file_extension": ".r",
   "mimetype": "text/x-r-source",
   "name": "R",
   "pygments_lexer": "r",
   "version": "4.2.2"
  }
 },
 "nbformat": 4,
 "nbformat_minor": 5
}
