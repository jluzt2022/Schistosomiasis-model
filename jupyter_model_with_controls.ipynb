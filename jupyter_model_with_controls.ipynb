{
 "cells": [
  {
   "cell_type": "markdown",
   "id": "2db008ff",
   "metadata": {},
   "source": [
    "## **cont´d**"
   ]
  },
  {
   "cell_type": "markdown",
   "id": "c76ef6f1",
   "metadata": {},
   "source": [
    "## Competition only model"
   ]
  },
  {
   "cell_type": "markdown",
   "id": "70215752",
   "metadata": {},
   "source": [
    "(iii)Simulation of the effects of competition parameters on the snail population and the subsequent cercariae population"
   ]
  },
  {
   "cell_type": "code",
   "execution_count": 2,
   "id": "3cf73ebd",
   "metadata": {},
   "outputs": [],
   "source": [
    "# Load R packages\n",
    "library(dplyr)    \n",
    "library(tidyr)\n",
    "library(ggplot2)\n",
    "library(deSolve)\n",
    "library(magrittr)"
   ]
  },
  {
   "cell_type": "code",
   "execution_count": 3,
   "id": "213680bb",
   "metadata": {},
   "outputs": [],
   "source": [
    "#Recall,\n",
    "#the R codes for the model equation \n",
    "\n",
    "  schistosom <- function(t, states, param){\n",
    "    with(as.list(c(states, param)), {\n",
    "      #rate of change\n",
    "      dH <-lambda1*exp(-u1*tau)-(beta1*H*C/(co+epsln*C))-u1*H;                             \n",
    "      dI <- (beta1*H*C/(co+epsln*C)) -(u1+delta1)*I;\n",
    "      dE <- rho*theta*I*(1-(E/Ke)) - (omega1+u3)*E;\n",
    "      dM <- omega1*E- u4*M;\n",
    "      dS <- (r1*S*(1-(S+e1*(Is+X))/Ks)) -(beta2*S*M/(mo + epsln*M))-(t1*S*Y/(1+a*t1*S)); \n",
    "      dIs <- (beta2*S*M/(mo + epsln*M))- (u2+delta2+e2*(S+X+Is))*Is-(t2*Y*Is/(1+b*t2*Is)); \n",
    "      dC <- omega2*Is- u5*C;     \n",
    "      dX <- r2*X*(1-(X+e3*(Is+S))/Ks);\n",
    "      dY<- (n1*t1*S*Y/(1+a*t1*S))+(n2*t2*Y*Is/(1+b*t2*Is))-u6*Y\n",
    "      #return the rate od change\n",
    "      list(c(dH, dI, dE, dM, dS, dIs, dC, dX, dY))\n",
    "    }) #end with (a.s.list...)\n",
    "      }"
   ]
  },
  {
   "cell_type": "markdown",
   "id": "9b62fe40",
   "metadata": {},
   "source": [
    "We examine how the epidemic curve changes in the presence of snail competitor, i.e. $Y(t)=0$ and $(t_{1}=t_{2}=a=b=0)$. \n",
    "<br>We vary the competition factors $e_{1}$ and $e_{2}$ with respect to the intermediate hosts (susceptible and infected) to account for the variability in competition resulting from different potential competitive snails that may behave more specifically  and competitively than the intermediate host.\n",
    "<br>In addition, intermediate host species and potential competitors compete for the same food sources, resulting in food scarcity for the less competitive intermediate host snails, which reduces their maximum possible population size and thus their carrying capacity $K_{s}$. While the aggressive and superior competitor snails experience growth in intrinsic natural increase $r_{2}$."
   ]
  },
  {
   "cell_type": "code",
   "execution_count": 4,
   "id": "870b8e0f",
   "metadata": {},
   "outputs": [],
   "source": [
    "#Redefine initial conditions in the presence of a snail competitor\n",
    "states <- c(H=99900, I=1,E=0, M=0, S=99999, Is=1, C=0,X=1000, Y=0)\n",
    "#period we desire the solutions\n",
    "times <-seq(from=0,to=5,by=1/365)\n"
   ]
  },
  {
   "cell_type": "code",
   "execution_count": null,
   "id": "8c14c903",
   "metadata": {},
   "outputs": [],
   "source": [
    "#create dataframes to compare the impact of potential snail competitors on the intermediate host populations and the v \n",
    "param<-c(lambda1 =254, beta1 = 0.406, u1 =0.0000384, u2 = 0.000569, delta1 = 0.0227, rho = 70,theta=10, Ke= 100000, \n",
    "         omega1 = 500,omega2 = 4128, u3 = 0.001, u5 =1, u4 = 2, r1=0.16, Ks =100000, beta2 = 0.615, u6=0.002,tau=730,\n",
    "             delta2 =0.011989,co = 100, mo =100, epsln = 0.2, n1=0.5, n2=0.8,  r2=0.24, K2=100000,\n",
    "             e3=0, e1=0, e2=0, a=0, b=0, t1=0, t2=0)\n",
    "ode(func= schistosom, y=states,  times=times, parms=param) %>% as.data.frame() -> out; #dataset with no control\n",
    "#Create dataframes out_i. i=1,2,3,4,5 corresponding to changes in the parameters\n",
    "param1<-c(lambda1 =254, beta1 = 0.406, u1 =0.0000384, u2 = 0.000569, delta1 = 0.0227, rho = 70,theta=10, Ke= 100000, omega1 = 500,omega2 = 4128, u3 = 0.001, u5 =1, u4 = 2,\n",
    "             r1=0.16, Ks =100000, beta2 = 0.615, u6=0.002,tau=730, delta2 =0.011989,co = 100, mo =100, epsln = 0.2, n1=0.5, n2=0.8,r2=0.16, K2=100000, \n",
    "            e3=0.0000001, e1=0.000001, e2=0.00001, t1=0, t2=0, a=0, b=0)\n",
    "ode(func= schistosom, y=states,  times=times, parms=param1) %>% as.data.frame() -> out1; #potential competitor 1\n",
    "#######################################################################################################\n",
    "param2<-c(lambda1 =254, beta1 = 0.406, u1 =0.0000384, u2 = 0.000569, delta1 = 0.0227,\n",
    "             rho = 70,theta=10, Ke= 100000, omega1 = 500,omega2 = 4128, u3 = 0.001, u5 =1, u4 = 2,\n",
    "             r1=0.16, Ks =10000, beta2 = 0.615, u6=0.002,tau=730, delta2 =0.011989,co = 100, mo =100, epsln = 0.2, n1=0.5, n2=0.8,\n",
    "             r2=0.24, K2=100000, e3=0.000002, e1=0.000002, e2=0.00003, t1=0, t2=0, a=0, b=0)\n",
    "ode(func= schistosom, y=states,  times=times, parms=param2) %>% as.data.frame() -> out2;       #potential competitor 2\n",
    "#####################################################################################################\n",
    "param3<-c(lambda1 =254, beta1 = 0.406, u1 =0.0000384, u2 = 0.000569, delta1 = 0.0227,\n",
    "             rho = 70,theta=10, Ke= 100000, omega1 = 500,omega2 = 4128, u3 = 0.001, u5 =1, u4 = 2,\n",
    "             r1=0.16, Ks =10000, beta2 = 0.615, u6=0.002,tau=730, delta2 =0.011989,co = 100, mo =100, epsln = 0.2, n1=0.5, n2=0.8,\n",
    "             r2=0.32, K2=100000, e3=0.000001, e1=0.000001, e2=0.0001, t1=0, t2=0, a=0, b=0)\n",
    "ode(func= schistosom, y=states,  times=times, parms=param3) %>% as.data.frame() -> out3;            #potential competitor 3\n",
    "#####################################################################################################\n",
    "param4<-c(lambda1 =254, beta1 = 0.406, u1 =0.0000384, u2 = 0.000569, delta1 = 0.0227,rho = 70,theta=10, Ke= 100000, omega1 = 500,omega2 = 4128, u3 = 0.001, u5 =1, u4 = 2,\n",
    "             r1=0.16, Ks =1000, beta2 = 0.615, u6=0.002,tau=730, delta2 =0.011989,co = 100, mo =100, epsln = 0.2, n1=0.5, n2=0.8,\n",
    "             r2=0.40, K2=100000,  e3=0.0001, e1=0.0001, e2=0.001, a=0, b=0, t1=0, t2=0)\n",
    "ode(func= schistosom, y=states,  times=times, parms=param4) %>% as.data.frame() -> out4;           #potential competitor 4\n",
    "#######################################################################################################################\n",
    "param5<-c(lambda1 =254, beta1 = 0.406, u1 =0.0000384, u2 = 0.000569, delta1 = 0.0227,rho = 70,theta=10, Ke= 100000, omega1 = 500,omega2 = 4128, u3 = 0.001, u5 =1, u4 = 2,\n",
    "             r1=0.16, Ks =100, beta2 = 0.615, u6=0.002,tau=730, delta2 =0.011989,co = 100, mo =100, epsln = 0.2, n1=0.5, n2=0.8,\n",
    "             r2=0.48, K2=100000,  e3=0.001, e1=0.001, e2=0.01, a=0, b=0, t1=0, t2=0)\n",
    "ode(func= schistosom, y=states,  times=times, parms=param5) %>% as.data.frame() -> out5;         #potential competitor 6"
   ]
  },
  {
   "cell_type": "code",
   "execution_count": 29,
   "id": "c3b24e66",
   "metadata": {},
   "outputs": [],
   "source": [
    "##Extract common columns of interest from the datasets ie\n",
    "#(i)susceptible snails\n",
    "df1<-data.frame(out[,1], out[,6], out1[,6],out2[,6],out3[,6],out4[,6], out5[,6])\n",
    "names(df1)<-c(\"time\",\"no control\", \"e1=0.00001\",\"e1=0.00003\", \"e1=0.0001\",\"e1=0.001\", \"e1=0.01\" )\n",
    "dat1 <- df1 %>% pivot_longer(cols = c(\"no control\", \"e1=0.00001\",\"e1=0.00003\", \"e1=0.0001\",\"e1=0.001\", \"e1=0.01\"),names_to = \"state\",values_to = \"value\")  \n",
    "#(ii)infected snails\n",
    "df2<-data.frame(out1[,1], out[,7], out1[,7],out2[,7],out3[,7],out4[,7], out5[,7])\n",
    "names(df2)<-c(\"time\",\"no control\", \"e2=0.00001\",\"e2=0.00003\", \"e2=0.0001\",\"e2=0.001\", \"e2=0.01\" )\n",
    "dat2 <- df2 %>% pivot_longer(cols = c(\"no control\", \"e2=0.00001\",\"e2=0.00003\", \"e2=0.0001\",\"e2=0.001\", \"e2=0.01\"),names_to = \"state\",values_to = \"value\")  \n",
    "#(iii)Subsequent Cercaria population\n",
    "df3<-data.frame(out1[,1], out[,8], out1[,8],out2[,8],out3[,8],out4[,8], out5[,8])\n",
    "names(df3)<-c(\"time\",\"no control\", \"e2=0.00001\",\"e2=0.00003\", \"e2=0.0001\",\"e2=0.001\", \"e2=0.01\" )\n",
    "dat3 <- df3 %>% pivot_longer(cols = c(\"no control\", \"e2=0.00001\",\"e2=0.00003\", \"e2=0.0001\",\"e2=0.001\", \"e2=0.01\"),names_to = \"state\",values_to = \"value\")  \n"
   ]
  },
  {
   "cell_type": "code",
   "execution_count": null,
   "id": "364b2f98",
   "metadata": {},
   "outputs": [],
   "source": [
    "#Visualization of the output of each population\n",
    "par(mfrow=c(1,3))\n",
    "dat1 %>% ggplot(aes(x = time, y = value, color = state,group = state))+ geom_line(linewidth=1.5)+ xlab(\"Time(years)\")+ylab(\"Susceptible snail population\")+theme(legend.position = c(0.45, 0.55))\n",
    "dat2 %>% ggplot(aes(x = time, y = value, color = state,group = state))+ geom_line(linewidth=1.5)+ xlab(\"Time(years)\")+ylab(\"infected snail population\")+theme(legend.position = c(0.45, 0.55))\n",
    "dat3 %>% ggplot(aes(x = time, y = value, color = state,group = state))+ geom_line(linewidth=1.5)+ xlab(\"Time(years)\")+ylab(\"Cercariae population\")+theme(legend.position = c(0.45, 0.55))"
   ]
  },
  {
   "cell_type": "markdown",
   "id": "a66ee2e7",
   "metadata": {},
   "source": [
    "## predation only model"
   ]
  },
  {
   "cell_type": "markdown",
   "id": "225238c7",
   "metadata": {},
   "source": [
    "(iv)simulation of the effect of predation parameters on the snail population and the subsequent cercariae population\n",
    "<br>We examine how the epidemic curve changes when a snail predator is present. To account for variation in predation caused by several potential predators of intermediate host snails with specific predation abilities, we change the predation parameters. \n",
    "<br>\n",
    "<br> **(a)** First, we investigate the effects of varying the attack rates  $t_{1}$ and $t_{2}$ of susceptible and infected snails, respectively. This is done by fixing the handing time $a=0.5$ and $0.25$ per day.  "
   ]
  },
  {
   "cell_type": "code",
   "execution_count": 31,
   "id": "37790b05",
   "metadata": {},
   "outputs": [],
   "source": [
    "#Redefine initial conditions in the presence of a snail predator\n",
    "states <- c(H=99900, I=1,E=0, M=0, S=99999, Is=1, C=0,X=0, Y=100)\n",
    "#period we desire the solutions\n",
    "times <-seq(from=0,to=5,by=1/365)"
   ]
  },
  {
   "cell_type": "code",
   "execution_count": 32,
   "id": "962a5246",
   "metadata": {},
   "outputs": [],
   "source": [
    "#each set of parameter combinations, we change the t1 and t2, and stores outputs as dataframe outp_i. i=1,2,3,4,5\n",
    "param1<-c(lambda1 =254, beta1 = 0.406, u1 =0.0000384, u2 = 0.000569, delta1 = 0.0227, rho = 70,theta=10, Ke= 100000, omega1 = 500,omega2 = 4128, u3 = 0.001, u5 =1, u4 = 2,\n",
    "      r1=0.16, Ks =100000, beta2 = 0.615, u6=0.002,tau=730, delta2 =0.011989,co = 100, mo =100, epsln = 0.2, n1=0.5, n2=0.8,r2=0.16, K2=100000, \n",
    "       e3=0, e1=0, e2=0, t1=0.002, t2=0.004, a=0.5, b=0.25)\n",
    "ode(func= schistosom, y=states,  times=times, parms=param1) %>% as.data.frame() -> outp1; \n",
    "#each change in parameter outputs a dataframe outp_i. i=1,2,3,4,5\n",
    "param2<-c(lambda1 =254, beta1 = 0.406, u1 =0.0000384, u2 = 0.000569, delta1 = 0.0227, rho = 70,theta=10, Ke= 100000, omega1 = 500,omega2 = 4128, u3 = 0.001, u5 =1, u4 = 2,\n",
    "             r1=0.16, Ks =100000, beta2 = 0.615, u6=0.002,tau=730, delta2 =0.011989,co = 100, mo =100, epsln = 0.2, n1=0.5, n2=0.8,r2=0.24, K2=100000, \n",
    "              e3=0, e1=0, e2=0, t1=0.001, t2=0.04, a=0.5, b=0.25)\n",
    "ode(func= schistosom, y=states,  times=times, parms=param2) %>% as.data.frame() -> outp2; \n",
    "#######################################################################################################\n",
    "param3<-c(lambda1 =254, beta1 = 0.406, u1 =0.0000384, u2 = 0.000569, delta1 = 0.0227, rho = 70,theta=10, Ke= 100000, omega1 = 500,omega2 = 4128, u3 = 0.001, u5 =1, u4 = 2,\n",
    "             r1=0.16, Ks =100000, beta2 = 0.615, u6=0.002,tau=730, delta2 =0.011989,co = 100, mo =100, epsln = 0.2, n1=0.5, n2=0.8,r2=0.32, K2=100000, \n",
    "             e3=0, e1=0, e2=0, t1=0.02, t2=0.4, a=0.5, b=0.25)\n",
    "ode(func= schistosom, y=states,  times=times, parms=param3) %>% as.data.frame() -> outp3;\n",
    "#####################################################################################################\n",
    "param4<-c(lambda1 =254, beta1 = 0.406, u1 =0.0000384, u2 = 0.000569, delta1 = 0.0227, rho = 70,theta=10, Ke= 100000, omega1 = 500,omega2 = 4128, u3 = 0.001, u5 =1, u4 = 2,\n",
    "             r1=0.16, Ks =100000, beta2 = 0.615, u6=0.002,tau=730, delta2 =0.011989,co = 100, mo =100, epsln = 0.2, n1=0.5, n2=0.8,r2=0.4, K2=100000, \n",
    "             e3=0, e1=0, e2=0, t1=0.1, t2=1, a=0.5, b=0.25)\n",
    "ode(func= schistosom, y=states,  times=times, parms=param4) %>% as.data.frame() -> outp4;\n",
    "#####################################################################################################\n",
    "param5<-c(lambda1 =254, beta1 = 0.406, u1 =0.0000384, u2 = 0.000569, delta1 = 0.0227, rho = 70,theta=10, Ke= 100000, omega1 = 500,omega2 = 4128, u3 = 0.001, u5 =1, u4 = 2,\n",
    "             r1=0.16, Ks =100000, beta2 = 0.615, u6=0.002,tau=730, delta2 =0.011989,co = 100, mo =100, epsln = 0.2, n1=0.5, n2=0.8,r2=0.48, K2=100000, \n",
    "             e3=0, e1=0, e2=0, t1=0.2, t2=2, a=0.5, b=0.25)\n",
    "ode(func= schistosom, y=states,  times=times, parms=param5) %>% as.data.frame() -> outp5;\n",
    "#######################################################################################################################\n",
    "param6<-c(lambda1 =254, beta1 = 0.406, u1 =0.0000384, u2 = 0.000569, delta1 = 0.0227, rho = 70,theta=10, Ke= 100000, omega1 = 500,omega2 = 4128, u3 = 0.001, u5 =1, u4 = 2,\n",
    "             r1=0.16, Ks =100000, beta2 = 0.615, u6=0.002,tau=730, delta2 =0.011989,co = 100, mo =100, epsln = 0.2, n1=0.5, n2=0.8,r2=0.56, K2=100000, \n",
    "             e3=0, e1=0, e2=0, t1=2, t2=4, a=0.5, b=0.25)\n",
    "ode(func= schistosom, y=states,  times=times, parms=param6) %>% as.data.frame() -> outp6;"
   ]
  },
  {
   "cell_type": "code",
   "execution_count": null,
   "id": "87719d55",
   "metadata": {},
   "outputs": [],
   "source": [
    "##Extract common columns of interest from the datasets ie columns representing \n",
    "#(i)susceptible snails\n",
    "  df1<-data.frame(out[,1], out[,6], outp1[,6],outp2[,6],outp3[,6],outp4[,6], outp5[,6],outp6[,6])\n",
    "   names(df1)<-c(\"time\",\"no control\", \"t1=0.002\", \"t1=0.001\", \"t1=0.02\",\"t1=0.1 \", \"t1=0.2\", \"t1=2\" )\n",
    " dat1 <- df1 %>% pivot_longer(cols = c(\"no control\", \"t1=0.002\", \"t1=0.001\", \"t1=0.02\",\"t1=0.1 \", \"t1=0.2\", \"t1=2\"),names_to = \"state\",values_to = \"value\")  \n",
    " #(ii)infected snails\n",
    "df2<-data.frame(out[,1], out[,7], outp1[,7],outp2[,7],outp3[,7],outp4[,7], outp5[,7],outp6[,7])\n",
    "  names(df2)<-c(\"time\",\"no control\", \"t2=0.004\", \"t2=0.04\", \"t1=0.4\",\"t2=1 \", \"t2=2\", \"t2=4\" )\n",
    " dat2 <- df2 %>% pivot_longer(cols = c(\"no control\", \"t2=0.004\", \"t2=0.04\", \"t1=0.4\",\"t2=1 \", \"t2=2\", \"t2=4\"),names_to = \"state\",values_to = \"value\")  \n",
    "#(iii)Subsequent Cercaria population\n",
    " df3<-data.frame(outp1[,1], out[,8], outp1[,8],outp2[,8],outp3[,8],outp4[,8], outp5[,8],outp6[,6])\n",
    " names(df3)<-c(\"time\",\"no control\", \"t2=0.004\", \"t2=0.04\", \"t1=0.4\",\"t2=1 \", \"t2=2\", \"t2=4\" )\n",
    " dat3 <- df3 %>% pivot_longer(cols = c(\"no control\", \"t2=0.004\", \"t2=0.04\", \"t1=0.4\",\"t2=1 \", \"t2=2\", \"t2=4\"),names_to = \"state\",values_to = \"value\")  \n"
   ]
  },
  {
   "cell_type": "code",
   "execution_count": null,
   "id": "1a3abfaa",
   "metadata": {},
   "outputs": [],
   "source": [
    "#Visualization of the output fof each population\n",
    "par(mfrow=c(1,3))\n",
    "dat1 %>% ggplot(aes(x = time, y = value, color = state,group = state))+ geom_line(linewidth=1.5)+ xlab(\"Time(years)\")+ylab(\"Susceptible population\")+theme(legend.position = c(0.45, 0.55))\n",
    "dat2 %>% ggplot(aes(x = time, y = value, color = state,group = state))+ geom_line(linewidth=1.5)+ xlab(\"Time(years)\")+ylab(\"infected snail population\")+theme(legend.position = c(0.45, 0.55))\n",
    "dat3 %>% ggplot(aes(x = time, y = value, color = state,group = state))+ geom_line(linewidth=1.5)+ xlab(\"Time(years)\")+ylab(\"Cercariae population\")+theme(legend.position = c(0.45, 0.55))\n"
   ]
  },
  {
   "cell_type": "markdown",
   "id": "981e910c",
   "metadata": {},
   "source": [
    "**(b)** Second, the effects of changing the handling times $a$ and $b$ of susceptible and infected snails, respectively, are examined.\n",
    "This is done by fixing the the attack rate $t_{1}=0.02$ and $t_{2}=0.4$."
   ]
  },
  {
   "cell_type": "code",
   "execution_count": 34,
   "id": "cd52de68",
   "metadata": {},
   "outputs": [],
   "source": [
    "#each set of parameter combination, we changes a and b, we  store outputs as dataframe outti_i. i=1,2,3,4,5\n",
    "param<-c(lambda1 =254, beta1 = 0.406, u1 =0.0000384, u2 = 0.000569, delta1 = 0.0227, rho = 70,theta=10, Ke= 100000, omega1 = 500,omega2 = 4128, u3 = 0.001, u5 =1, u4 = 2,\n",
    "             r1=0.16, Ks =100000, beta2 = 0.615, u6=0.002,tau=730, delta2 =0.011989,co = 100, mo =100, epsln = 0.2, n1=0.5, n2=0.8,r2=0.16, K2=100000, \n",
    "              e3=0, e1=0, e2=0, t1=0.02, t2=0.4, a=0.005, b=0.005)\n",
    "ode(func= schistosom, y=states,  times=times, parms=param) %>% as.data.frame() -> outt1; \n",
    "#######################################################################################################\n",
    "param<-c(lambda1 =254, beta1 = 0.406, u1 =0.0000384, u2 = 0.000569, delta1 = 0.0227, rho = 70,theta=10, Ke= 100000, omega1 = 500,omega2 = 4128, u3 = 0.001, u5 =1, u4 = 2,\n",
    "             r1=0.16, Ks =100000, beta2 = 0.615, u6=0.002,tau=730, delta2 =0.011989,co = 100, mo =100, epsln = 0.2, n1=0.5, n2=0.8,r2=0.24, K2=100000, \n",
    "             e3=0, e1=0, e2=0, t1=0.02, t2=0.4, a=0.05, b=0.1)\n",
    "ode(func= schistosom, y=states,  times=times, parms=param) %>% as.data.frame() -> outt2; \n",
    "#######################################################################################################\n",
    "param<-c(lambda1 =254, beta1 = 0.406, u1 =0.0000384, u2 = 0.000569, delta1 = 0.0227, rho = 70,theta=10, Ke= 100000, omega1 = 500,omega2 = 4128, u3 = 0.001, u5 =1, u4 = 2,\n",
    "             r1=0.16, Ks =100000, beta2 = 0.615, u6=0.002,tau=730, delta2 =0.011989,co = 100, mo =100, epsln = 0.2, n1=0.5, n2=0.8,r2=0.24, K2=100000, \n",
    "              e3=0, e1=0, e2=0, t1=0.02, t2=0.4, a=0.1, b=0.25)\n",
    "ode(func= schistosom, y=states,  times=times, parms=param) %>% as.data.frame() -> outt3;\n",
    "#####################################################################################################\n",
    "param<-c(lambda1 =254, beta1 = 0.406, u1 =0.0000384, u2 = 0.000569, delta1 = 0.0227, rho = 70,theta=10, Ke= 100000, omega1 = 500,omega2 = 4128, u3 = 0.001, u5 =1, u4 = 2,\n",
    "             r1=0.16, Ks =100000, beta2 = 0.615, u6=0.002,tau=730, delta2 =0.011989,co = 100, mo =100, epsln = 0.2, n1=0.5, n2=0.8,r2=0.32, K2=100000, \n",
    "             e3=0, e1=0, e2=0, t1=0.02, t2=0.4, a=0.5, b=0.25)\n",
    "ode(func= schistosom, y=states,  times=times, parms=param) %>% as.data.frame() -> outt4;\n",
    "#####################################################################################################\n",
    "param4<-c(lambda1 =254, beta1 = 0.406, u1 =0.0000384, u2 = 0.000569, delta1 = 0.0227, rho = 70,theta=10, Ke= 100000, omega1 = 500,omega2 = 4128, u3 = 0.001, u5 =1, u4 = 2,\n",
    "             r1=0.16, Ks =100000, beta2 = 0.615, u6=0.002,tau=730, delta2 =0.011989,co = 100, mo =100, epsln = 0.2, n1=0.5, n2=0.8,r2=0.40, K2=100000, \n",
    "              e3=0, e1=0, e2=0, t1=0.02, t2=0.4, a=3, b=0.5)\n",
    "ode(func= schistosom, y=states,  times=times, parms=param4) %>% as.data.frame() -> outt5;\n",
    "#######################################################################################################################\n",
    "param5<-c(lambda1 =254, beta1 = 0.406, u1 =0.0000384, u2 = 0.000569, delta1 = 0.0227, rho = 70,theta=10, Ke= 100000, omega1 = 500,omega2 = 4128, u3 = 0.001, u5 =1, u4 = 2,\n",
    "             r1=0.16, Ks =100000, beta2 = 0.615, u6=0.002,tau=730, delta2 =0.011989,co = 100, mo =100, epsln = 0.2, n1=0.5, n2=0.8,r2=0.48, K2=100000, \n",
    "               e3=0, e1=0, e2=0, t1=2, t2=4, a=5, b=1)\n",
    "ode(func= schistosom, y=states,  times=times, parms=param5) %>% as.data.frame() -> outt6;"
   ]
  },
  {
   "cell_type": "code",
   "execution_count": null,
   "id": "650c04fc",
   "metadata": {},
   "outputs": [],
   "source": [
    "#Extract common columns from the datasets ie columns representing \n",
    "#(i)susceptible snails\n",
    "  df1<-data.frame(out[,1], out[,6], outt1[,6],outt2[,6],outt3[,6],outt4[,6], outt5[,6],outt6[,6])\n",
    "   names(df1)<-c(\"time\",\"no control\", \"a=0.005\", \"a=0.05\",\"a=0.1\",\"a=0.5\",  \"a=3\", \"a=5\" )\n",
    " dat1 <- df1 %>% pivot_longer(cols = c(\"no control\", \"a=0.005\", \"a=0.05\",\"a=0.1\",\"a=0.5\",  \"a=3\", \"a=5\"),names_to = \"state\",values_to = \"value\")  \n",
    "#(ii)infected snails\n",
    "df2<-data.frame(out[,1], out[,7], outt1[,7],outt2[,7],outt3[,7],outt4[,7], outt5[,7],outt6[,7])\n",
    "  names(df2)<-c(\"time\",\"no control\", \"b=0.005\", \"b=0.05\", \"b=0.1\",\"b=0.25\",  \"b=0.5\", \"b=1\" )\n",
    " dat2 <- df2 %>% pivot_longer(cols = c(\"no control\", \"b=0.005\", \"b=0.05\", \"b=0.1\",\"b=0.25\",  \"b=0.5\", \"b=1\"),names_to = \"state\",values_to = \"value\")  \n",
    "#(iii)Subsequent Cercaria population\n",
    " df3<-data.frame(out[,1], out[,8], outt1[,8],outt2[,8],outt3[,8],outt4[,8], outt5[,8],outt6[,8])\n",
    " names(df3)<-c(\"time\",\"no control\", \"b=0.005\", \"b=0.05\", \"b=0.1\",\"b=0.25\",  \"b=0.5\", \"b=1\")\n",
    " dat3 <- df3 %>% pivot_longer(cols = c(\"no control\", \"b=0.005\", \"b=0.05\", \"b=0.1\",\"b=0.25\",  \"b=0.5\", \"b=1\"),names_to = \"state\",values_to = \"value\")  "
   ]
  },
  {
   "cell_type": "code",
   "execution_count": null,
   "id": "be39e21e",
   "metadata": {},
   "outputs": [],
   "source": [
    "#Visualizatiuoin of the output fof each population\n",
    "par(mfrow=c(1,3))\n",
    "dat1 %>% ggplot(aes(x = time, y = value, color = state,group = state))+ geom_line(linewidth=1.5)+ xlab(\"Time(years)\")+ylab(\"Susceptible population\")+theme(legend.position = c(0.45, 0.55))\n",
    "dat2 %>% ggplot(aes(x = time, y = value, color = state,group = state))+ geom_line(linewidth=1.5)+ xlab(\"Time(years)\")+ylab(\"infected snail population\")+theme(legend.position = c(0.45, 0.55))\n",
    "dat3 %>% ggplot(aes(x = time, y = value, color = state,group = state))+ geom_line(linewidth=1.5)+ xlab(\"Time(years)\")+ylab(\"Cercariae population\")+theme(legend.position = c(0.45, 0.55))"
   ]
  },
  {
   "cell_type": "markdown",
   "id": "2a4c4012",
   "metadata": {},
   "source": [
    "## Competition and predation model "
   ]
  },
  {
   "cell_type": "markdown",
   "id": "627de9a0",
   "metadata": {},
   "source": [
    "(v)simulation of the effects of competition and predation parameters on the snail population and the subsequent cercariae population \n",
    "<br>We investigate the changes in the dynamics of schistosomiasis when both a snail competitor and a snail predator coexist with intermediate host snails. To illustrate these scenarios, we can select different possible combinations of predation and competition parameters.\n"
   ]
  },
  {
   "cell_type": "code",
   "execution_count": 41,
   "id": "4887df25",
   "metadata": {},
   "outputs": [],
   "source": [
    "#Redefine initial conditions in the presence of a snail competitor and predator\n",
    "states <- c(H=99900, I=1,E=0, M=0, S=99999, Is=1, C=0,X=1000, Y=100)\n",
    "#period we desire the solutions\n",
    "times <-seq(from=0,to=5,by=1/365)"
   ]
  },
  {
   "cell_type": "code",
   "execution_count": 42,
   "id": "0e8861d6",
   "metadata": {},
   "outputs": [],
   "source": [
    "#each set of parameter combinatioin outputs a dataframe outtp_i. i=1,2,3,4,5\n",
    "param1<-c(lambda1 =254, beta1 = 0.406, u1 =0.0000384, u2 = 0.000569, delta1 = 0.0227, rho = 70,theta=10, Ke= 100000, omega1 = 500,omega2 = 4128, u3 = 0.001, u5 =1, u4 = 2,\n",
    "             r1=0.16, Ks =100000, beta2 = 0.615, u6=0.002,tau=730, delta2 =0.011989,co = 100, mo =100, epsln = 0.2, n1=0.5, n2=0.8,r2=0.16, K2=100000, \n",
    "              e3=0.001,e1=0.00001, e2=0.001,t1=2, t2=0.004, a=0.005, b=1)\n",
    "ode(func= schistosom, y=states,  times=times, parms=param1) %>% as.data.frame() -> outtp1; \n",
    "#each change in parameter outputs a dataframe outp_i. i=1,2,3,4,5\n",
    "param2<-c(lambda1 =254, beta1 = 0.406, u1 =0.0000384, u2 = 0.000569, delta1 = 0.0227, rho = 70,theta=10, Ke= 100000, omega1 = 500,omega2 = 4128, u3 = 0.001, u5 =1, u4 = 2,\n",
    "             r1=0.16, Ks =100000, beta2 = 0.615, u6=0.002,tau=730, delta2 =0.011989,co = 100, mo =100, epsln = 0.2, n1=0.5, n2=0.8,r2=0.24, K2=100000, \n",
    "              e3=0.001, e1=0.00003, e2=0.0001, t1=0.2, t2=0.04, a=0.05, b=0.5)\n",
    "ode(func= schistosom, y=states,  times=times, parms=param2) %>% as.data.frame() -> outtp2; \n",
    "#######################################################################################################\n",
    "param3<-c(lambda1 =254, beta1 = 0.406, u1 =0.0000384, u2 = 0.000569, delta1 = 0.0227, rho = 70,theta=10, Ke= 100000, omega1 = 500,omega2 = 4128, u3 = 0.001, u5 =1, u4 = 2,\n",
    "             r1=0.16, Ks =100000, beta2 = 0.615, u6=0.002,tau=730, delta2 =0.011989,co = 100, mo =100, epsln = 0.2, n1=0.5, n2=0.8,r2=0.32, K2=100000, \n",
    "             e3=0.0001, e1=0.0001, e2=0.00003, t1=0.02, t2=1,a=0.5, b=0.1)\n",
    "ode(func= schistosom, y=states,  times=times, parms=param3) %>% as.data.frame() -> outtp3;\n",
    "#####################################################################################################\n",
    "param4<-c(lambda1 =254, beta1 = 0.406, u1 =0.0000384, u2 = 0.000569, delta1 = 0.0227, rho = 70,theta=10, Ke= 100000, omega1 = 500,omega2 = 4128, u3 = 0.001, u5 =1, u4 = 2,\n",
    "             r1=0.16, Ks =100000, beta2 = 0.615, u6=0.002,tau=730, delta2 =0.011989,co = 100, mo =100, epsln = 0.2, n1=0.5, n2=0.8,r2=0.4, K2=100000, \n",
    "              e3=0.001,e1=0.001, e2=0.00001,t1=0.002, t2=2, a=3, b=0.05)\n",
    "ode(func= schistosom, y=states,  times=times, parms=param4) %>% as.data.frame() -> outtp4;"
   ]
  },
  {
   "cell_type": "code",
   "execution_count": null,
   "id": "9b6de045",
   "metadata": {},
   "outputs": [],
   "source": [
    "##Extract common columns from the datasets ie columns representing \n",
    "#(i)susceptible snails\n",
    "  df1<-data.frame(out[,1], out[,6], outtp1[,6],outtp2[,6],outtp3[,6],outtp4[,6])\n",
    "   names(df1)<-c(\"time\",\"no control\", \"e1=0.000001, e2=0.001, t1=2, t2=0.004, a=0.005, b=1\",\"e1=0.000003, e2=0.0001, t1=0.2, t2=0.04, a=0.05, b=0.5\", \n",
    "               \"e1=0.0001, e2=0.00003, t1=0.02, t2=1,a=0.5, b=0.1 \", \"e1=0.001, e2=0.00001, t1=0.002, t2=2,a=3, b=0.5\"  )\n",
    " dat1 <- df1%>% pivot_longer(cols = c(\"no control\", \"e1=0.000001, e2=0.001, t1=2, t2=0.004, a=0.005, b=1\",\"e1=0.000003, e2=0.0001, t1=0.2, t2=0.04, a=0.05, b=0.5\", \n",
    "                                     \"e1=0.0001, e2=0.00003, t1=0.02, t2=1,a=0.5, b=0.1 \",\"e1=0.001, e2=0.00001, t1=0.002, t2=2,a=3, b=0.5\" ),names_to = \"state\",values_to = \"value\")  \n",
    "#(ii)infected snails\n",
    " df2<-data.frame(out[,1], out[,7], outtp1[,7],outtp2[,7],outtp3[,7],outtp4[,7])\n",
    "   names(df2)<-c(\"time\",\"no control\", \"e1=0.000001, e2=0.001, t1=2, t2=0.004, a=0.005, b=1\",\"e1=0.000003, e2=0.0001, t1=0.2, t2=0.04, a=0.05, b=0.5\", \n",
    "               \"e1=0.0001, e2=0.00003, t1=0.02, t2=1,a=0.5, b=0.1 \",\"e1=0.001, e2=0.00001, t1=0.002, t2=2,a=3, b=0.5\"  )\n",
    " dat2<- df2 %>% pivot_longer(cols = c(\"no control\", \"e1=0.000001, e2=0.001, t1=2, t2=0.004, a=0.005, b=1\",\n",
    "               \"e1=0.000003, e2=0.0001, t1=0.2, t2=0.04, a=0.05, b=0.5\", \"e1=0.0001, e2=0.00003, t1=0.02, t2=1,a=0.5, b=0.1 \",\n",
    "               \"e1=0.001, e2=0.00001, t1=0.002, t2=2,a=3, b=0.5\" ),names_to = \"state\",values_to = \"value\")  \n",
    "#(iii)Subsequent Cercaria population\n",
    " df3<-data.frame(out[,1], out[,8], outtp1[,8],outtp2[,8],outtp3[,8],outtp4[,8])\n",
    "   names(df3)<-c(\"time\",\"no control\", \"e1=0.000001, e2=0.001, t1=2, t2=0.004, a=0.005, b=1\",\"e1=0.000003, e2=0.0001, t1=0.2, t2=0.04, a=0.05, b=0.5\", \n",
    "               \"e1=0.0001, e2=0.00003, t1=0.02, t2=1,a=0.5, b=0.1 \", \"e1=0.001, e2=0.00001, t1=0.002, t2=2,a=3, b=0.5\"  )\n",
    " dat3 <- df3%>% pivot_longer(cols = c(\"no control\", \"e1=0.000001, e2=0.001, t1=2, t2=0.004, a=0.005, b=1\",\"e1=0.000003, e2=0.0001, t1=0.2, t2=0.04, a=0.05, b=0.5\", \n",
    "               \"e1=0.0001, e2=0.00003, t1=0.02, t2=1,a=0.5, b=0.1 \",\"e1=0.001, e2=0.00001, t1=0.002, t2=2,a=3, b=0.5\" ),names_to = \"state\",values_to = \"value\")  \n",
    " #(iii) different snail competitor population\n",
    "df4<-data.frame(out[,1],outtp1[,9],outtp2[,9],outtp3[,9],outtp4[,9])\n",
    "   names(df4)<-c(\"time\", \"e1=0.000001, e2=0.001, t1=2, t2=0.004, a=0.005, b=1\", \"e1=0.000003, e2=0.0001, t1=0.2, t2=0.04, a=0.05, b=0.5\", \n",
    "               \"e1=0.0001, e2=0.00003, t1=0.02, t2=1,a=0.5, b=0.1 \",\"e1=0.001, e2=0.00001, t1=0.002, t2=2,a=3, b=0.5\"  )\n",
    " dat4 <- df4 %>% pivot_longer(cols = c(\"e1=0.000001, e2=0.001, t1=2, t2=0.004, a=0.005, b=1\",\"e1=0.000003, e2=0.0001, t1=0.2, t2=0.04, a=0.05, b=0.5\", \n",
    "               \"e1=0.0001, e2=0.00003, t1=0.02, t2=1,a=0.5, b=0.1 \",\"e1=0.001, e2=0.00001, t1=0.002, t2=2,a=3, b=0.5\" ),names_to = \"state\",values_to = \"value\")  \n",
    " #(iv)different snail predator population growth behaviours\n",
    "df5<-data.frame(out[,1],outtp1[,10],outtp2[,10],outtp3[,10],outtp4[,10])\n",
    "   names(df5)<-c(\"time\", \"e1=0.000001, e2=0.001, t1=2, t2=0.004, a=0.005, b=1\",\"e1=0.000003, e2=0.0001, t1=0.2, t2=0.04, a=0.05, b=0.5\", \n",
    "               \"e1=0.0001, e2=0.00003, t1=0.02, t2=1,a=0.5, b=0.1 \",\"e1=0.001, e2=0.00001, t1=0.002, t2=2,a=3, b=0.5\"  )\n",
    " dat5 <- df5 %>% pivot_longer(cols = c(\"e1=0.000001, e2=0.001, t1=2, t2=0.004, a=0.005, b=1\",\"e1=0.000003, e2=0.0001, t1=0.2, t2=0.04, a=0.05, b=0.5\", \n",
    "               \"e1=0.0001, e2=0.00003, t1=0.02, t2=1,a=0.5, b=0.1 \",\"e1=0.001, e2=0.00001, t1=0.002, t2=2,a=3, b=0.5\" ),names_to = \"state\",values_to = \"value\")  \n",
    " "
   ]
  },
  {
   "cell_type": "code",
   "execution_count": null,
   "id": "a8f3e208",
   "metadata": {},
   "outputs": [],
   "source": [
    "#Visualizatiuoin of the output fof each population\n",
    "par(mfrow=c(2,3))\n",
    "dat1 %>% ggplot(aes(x = time, y = value, color = state,group = state))+ geom_line(linewidth=1.5)+ xlab(\"Time(years)\")+ylab(\"Susceptible population\") +theme(legend.position = c(0.45, 0.55))\n",
    "dat2 %>% ggplot(aes(x = time, y = value, color = state,group = state))+ geom_line(linewidth=1.5)+ xlab(\"Time(years)\")+ylab(\"infected snail population\")+theme(legend.position = c(0.45, 0.55))\n",
    "dat3 %>% ggplot(aes(x = time, y = value, color = state,group = state))+ geom_line(linewidth=1.5)+ xlab(\"Time(years)\")+ylab(\"Cercariae population\")+theme(legend.position = c(0.45, 0.55))\n",
    "dat4 %>% ggplot(aes(x = time, y = value, color = state,group = state))+ geom_line(linewidth=1.5)+ xlab(\"Time(years)\")+ylab(\"Potential snail competitor population\")+theme(legend.position = c(0.45, 0.55))\n",
    "dat5 %>% ggplot(aes(x = time, y = value, color = state,group = state))+ geom_line(linewidth=1.5)+ xlab(\"Time(years)\")+ylab(\"different snail predator population growth behaviours\")+theme(legend.position = c(0.45, 0.55))\n"
   ]
  }
 ],
 "metadata": {
  "kernelspec": {
   "display_name": "R4.2.2",
   "language": "R",
   "name": "ir41"
  },
  "language_info": {
   "codemirror_mode": "r",
   "file_extension": ".r",
   "mimetype": "text/x-r-source",
   "name": "R",
   "pygments_lexer": "r",
   "version": "4.2.2"
  }
 },
 "nbformat": 4,
 "nbformat_minor": 5
}
